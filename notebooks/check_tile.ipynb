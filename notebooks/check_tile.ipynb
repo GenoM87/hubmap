{
 "metadata": {
  "language_info": {
   "codemirror_mode": {
    "name": "ipython",
    "version": 3
   },
   "file_extension": ".py",
   "mimetype": "text/x-python",
   "name": "python",
   "nbconvert_exporter": "python",
   "pygments_lexer": "ipython3",
   "version": "3.6.9-final"
  },
  "orig_nbformat": 2,
  "kernelspec": {
   "name": "kaggleenv",
   "display_name": "kaggleEnv",
   "language": "python"
  }
 },
 "nbformat": 4,
 "nbformat_minor": 2,
 "cells": [
  {
   "cell_type": "code",
   "execution_count": 1,
   "metadata": {},
   "outputs": [],
   "source": [
    "import os\n",
    "os.chdir('../src')"
   ]
  },
  {
   "cell_type": "code",
   "execution_count": 2,
   "metadata": {},
   "outputs": [],
   "source": [
    "import datetime\n",
    "\n",
    "import pandas as pd\n",
    "import numpy as np\n",
    "import rasterio\n",
    "import cv2\n",
    "\n",
    "from config import _C as cfg\n",
    "from utils import create_tile_v2, to_mask, rle2mask\n",
    "from models.loss import dice_coefficient\n",
    "\n",
    "identity = rasterio.Affine(1, 0, 0, 0, 1, 0)"
   ]
  },
  {
   "cell_type": "code",
   "execution_count": 3,
   "metadata": {},
   "outputs": [],
   "source": [
    "# Provo a fare un check con le tile create con la procedura"
   ]
  },
  {
   "cell_type": "code",
   "execution_count": 4,
   "metadata": {},
   "outputs": [],
   "source": [
    "df = pd.read_csv('/home/giorgio/Scrivania/Kaggle/hubmap/data/train.csv')\n",
    "valid_id = cfg.DATASET.VALID_ID[0]\n",
    "\n",
    "res = create_tile_v2(\n",
    "    valid_id,\n",
    "    df,\n",
    "    cfg\n",
    ")"
   ]
  },
  {
   "cell_type": "code",
   "execution_count": 5,
   "metadata": {},
   "outputs": [],
   "source": [
    "path_img = os.path.join(\n",
    "    cfg.DATA_DIR, 'train', valid_id+'.tiff'\n",
    ")\n",
    "dataset = rasterio.open(path_img, transform=identity, num_threads = 'all_cpus')\n",
    "h, w = dataset.shape\n",
    "\n",
    "encoding = df[df['id']==valid_id]['encoding'].values[0]\n",
    "mask = rle2mask(encoding, (w, h))"
   ]
  },
  {
   "cell_type": "code",
   "execution_count": 6,
   "metadata": {},
   "outputs": [],
   "source": [
    "mask = cv2.resize(mask, dsize=None, fx=cfg.DATASET.IMG_SCALE, fy=cfg.DATASET.IMG_SCALE, interpolation = cv2.INTER_AREA)"
   ]
  },
  {
   "cell_type": "code",
   "execution_count": 7,
   "metadata": {},
   "outputs": [],
   "source": [
    "h, w = mask.shape"
   ]
  },
  {
   "cell_type": "code",
   "execution_count": 8,
   "metadata": {},
   "outputs": [],
   "source": [
    "mask_pred = to_mask(\n",
    "    res['mask_tile'],\n",
    "    res['coord'],\n",
    "    h,\n",
    "    w,\n",
    "    cfg.DATASET.TRAIN_TILE_SIZE\n",
    ")"
   ]
  },
  {
   "cell_type": "code",
   "execution_count": 9,
   "metadata": {},
   "outputs": [
    {
     "output_type": "execute_result",
     "data": {
      "text/plain": [
       "0.994824446489055"
      ]
     },
     "metadata": {},
     "execution_count": 9
    }
   ],
   "source": [
    "dice_coefficient(mask, mask_pred)"
   ]
  },
  {
   "cell_type": "code",
   "execution_count": 16,
   "metadata": {},
   "outputs": [],
   "source": [
    "from models.model import build_model\n",
    "from data_builder.transforms import get_valid_transform\n",
    "import albumentations as A\n",
    "import torch"
   ]
  },
  {
   "cell_type": "code",
   "execution_count": 11,
   "metadata": {},
   "outputs": [],
   "source": [
    "model = build_model(cfg)"
   ]
  },
  {
   "cell_type": "code",
   "execution_count": 12,
   "metadata": {},
   "outputs": [],
   "source": [
    "ckpt = torch.load('/home/giorgio/Scrivania/Kaggle/hubmap/experiments/resnet34/2020-12-29/unet_best.ckpt')"
   ]
  },
  {
   "cell_type": "code",
   "execution_count": 13,
   "metadata": {},
   "outputs": [],
   "source": [
    "model.load_state_dict(ckpt['model_state_dict'])\n",
    "del ckpt"
   ]
  },
  {
   "cell_type": "code",
   "execution_count": 23,
   "metadata": {},
   "outputs": [],
   "source": [
    "model = model.to(cfg.DEVICE)\n",
    "model = model.eval()"
   ]
  },
  {
   "cell_type": "code",
   "execution_count": 33,
   "metadata": {},
   "outputs": [
    {
     "output_type": "stream",
     "name": "stdout",
     "text": [
      "(695, 320, 320, 3)\n(695, 3, 320, 320)\n"
     ]
    }
   ],
   "source": [
    "tile_image = res['img_tile']\n",
    "tile_image = np.stack(tile_image)[..., ::-1]\n",
    "print(tile_image.shape)\n",
    "tile_image = np.ascontiguousarray(tile_image.transpose(0,3,1,2))\n",
    "print(tile_image.shape)"
   ]
  },
  {
   "cell_type": "code",
   "execution_count": 17,
   "metadata": {},
   "outputs": [],
   "source": [
    "norm = A.Normalize()"
   ]
  },
  {
   "cell_type": "code",
   "execution_count": 21,
   "metadata": {},
   "outputs": [
    {
     "output_type": "stream",
     "name": "stdout",
     "text": [
      "(695, 3, 320, 320)\n"
     ]
    }
   ],
   "source": [
    "tile_image2 = res['img_tile']\n",
    "tile_image2 = np.stack(tile_image2)[..., ::-1]\n",
    "tile_image2 = norm(image=tile_image2)['image']\n",
    "tile_image2 = np.ascontiguousarray(tile_image2.transpose(0,3,1,2))\n",
    "\n",
    "print(tile_image2.shape)"
   ]
  },
  {
   "cell_type": "code",
   "execution_count": 26,
   "metadata": {},
   "outputs": [],
   "source": [
    "batch = np.array_split(tile_image2, len(tile_image2)//4)\n",
    "    \n",
    "tile_prob = []\n",
    "#itero per tutti i batch\n",
    "for num, imgs in enumerate(batch):\n",
    "    imgs = torch.from_numpy(imgs).to(cfg.DEVICE)\n",
    "    with torch.no_grad():\n",
    "        y_hat = model(imgs)\n",
    "        prob = torch.sigmoid(y_hat)\n",
    "\n",
    "        tile_prob.append(prob.detach().cpu().numpy())"
   ]
  },
  {
   "cell_type": "code",
   "execution_count": 29,
   "metadata": {},
   "outputs": [],
   "source": [
    " tile_probz = np.concatenate(tile_prob).squeeze()"
   ]
  },
  {
   "cell_type": "code",
   "execution_count": 30,
   "metadata": {},
   "outputs": [
    {
     "output_type": "execute_result",
     "data": {
      "text/plain": [
       "(695, 320, 320)"
      ]
     },
     "metadata": {},
     "execution_count": 30
    }
   ],
   "source": []
  },
  {
   "cell_type": "code",
   "execution_count": 32,
   "metadata": {},
   "outputs": [],
   "source": [
    "mask_pred = to_mask(\n",
    "    tile_probz,\n",
    "    res['coord'],\n",
    "    h,\n",
    "    w,\n",
    "    cfg.DATASET.TRAIN_TILE_SIZE\n",
    ")"
   ]
  },
  {
   "cell_type": "code",
   "execution_count": 33,
   "metadata": {},
   "outputs": [
    {
     "output_type": "execute_result",
     "data": {
      "text/plain": [
       "(7610, 5560)"
      ]
     },
     "metadata": {},
     "execution_count": 33
    }
   ],
   "source": [
    "mask_pred.shape"
   ]
  },
  {
   "cell_type": "code",
   "execution_count": 39,
   "metadata": {},
   "outputs": [
    {
     "output_type": "stream",
     "name": "stdout",
     "text": [
      "0.0 0.08642292939687168\n",
      "0.05 0.8464845730068935\n",
      "0.1 0.8306207463036845\n",
      "0.15000000000000002 0.8144497504865558\n",
      "0.2 0.7982093015864905\n",
      "0.25 0.7818526662721169\n",
      "0.30000000000000004 0.764338096722404\n",
      "0.35000000000000003 0.7451995578566447\n",
      "0.4 0.7223447746454441\n",
      "0.45 0.695123764528971\n",
      "0.5 0.6640785442244219\n",
      "0.55 0.6312984237242854\n",
      "0.6000000000000001 0.5969490633189521\n",
      "0.65 0.5586122325211261\n",
      "0.7000000000000001 0.5126859682696463\n",
      "0.75 0.4563277629925834\n",
      "0.8 0.3895218832171774\n",
      "0.8500000000000001 0.30914553294079467\n",
      "0.9 0.20565976038798078\n",
      "0.9500000000000001 0.06028429598562651\n",
      "1.0 0.0\n"
     ]
    }
   ],
   "source": [
    "for thr in np.linspace(0, 1, 21):\n",
    "    predict = (mask_pred>thr).astype(np.float32)\n",
    "    print(thr, dice_coefficient(predict, mask))"
   ]
  },
  {
   "cell_type": "code",
   "execution_count": null,
   "metadata": {},
   "outputs": [],
   "source": []
  }
 ]
}