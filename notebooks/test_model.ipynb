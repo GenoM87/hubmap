{
 "metadata": {
  "language_info": {
   "codemirror_mode": {
    "name": "ipython",
    "version": 3
   },
   "file_extension": ".py",
   "mimetype": "text/x-python",
   "name": "python",
   "nbconvert_exporter": "python",
   "pygments_lexer": "ipython3",
   "version": "3.6.9-final"
  },
  "orig_nbformat": 2,
  "kernelspec": {
   "name": "kaggleenv",
   "display_name": "kaggleEnv",
   "language": "python"
  }
 },
 "nbformat": 4,
 "nbformat_minor": 2,
 "cells": [
  {
   "cell_type": "code",
   "execution_count": 2,
   "metadata": {},
   "outputs": [],
   "source": [
    "import os\n",
    "os.chdir('../src')"
   ]
  },
  {
   "cell_type": "code",
   "execution_count": 3,
   "metadata": {},
   "outputs": [],
   "source": [
    "import segmentation_models_pytorch as smp\n",
    "\n",
    "from config import _C as cfg\n",
    "\n",
    "def build_model(cfg):\n",
    "\n",
    "    if cfg.MODEL.ATTENTION:\n",
    "        model = smp.Unet(\n",
    "            encoder_name=cfg.MODEL.NAME,\n",
    "            encoder_weights=cfg.MODEL.PRETRAINING,\n",
    "            in_channels=3,\n",
    "            classes=1,\n",
    "            decoder_attention_type='scse',\n",
    "            activation=None\n",
    "        )\n",
    "    else:\n",
    "        model = smp.Unet(\n",
    "            encoder_name=cfg.MODEL.NAME,\n",
    "            encoder_weights=cfg.MODEL.PRETRAINING,\n",
    "            in_channels=3,\n",
    "            classes=1,\n",
    "            activation=None\n",
    "        )\n",
    "\n",
    "    return model"
   ]
  },
  {
   "cell_type": "code",
   "execution_count": null,
   "metadata": {},
   "outputs": [],
   "source": []
  }
 ]
}