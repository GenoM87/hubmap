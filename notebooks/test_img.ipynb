{
 "metadata": {
  "language_info": {
   "codemirror_mode": {
    "name": "ipython",
    "version": 3
   },
   "file_extension": ".py",
   "mimetype": "text/x-python",
   "name": "python",
   "nbconvert_exporter": "python",
   "pygments_lexer": "ipython3",
   "version": "3.8.5-final"
  },
  "orig_nbformat": 2,
  "kernelspec": {
   "name": "python38564bit9cde81eb0a0d49acba5d4552807c1786",
   "display_name": "Python 3.8.5 64-bit",
   "language": "python"
  }
 },
 "nbformat": 4,
 "nbformat_minor": 2,
 "cells": [
  {
   "cell_type": "code",
   "execution_count": 1,
   "metadata": {},
   "outputs": [],
   "source": [
    "import sys\n",
    "sys.path.insert(0, '../')"
   ]
  },
  {
   "cell_type": "code",
   "execution_count": 2,
   "metadata": {},
   "outputs": [],
   "source": [
    "from src.data_builder.dataset import hmDataset\n",
    "from src.config import _C as cfg\n",
    "import pandas as pd\n",
    "import numpy as np"
   ]
  },
  {
   "cell_type": "code",
   "execution_count": 3,
   "metadata": {},
   "outputs": [],
   "source": [
    "data = pd.read_csv('/home/giorgio/Scrivania/Kaggle/hubmap/data/train/0.25_0.25_320_160_train/coord.csv')"
   ]
  },
  {
   "cell_type": "code",
   "execution_count": 4,
   "metadata": {},
   "outputs": [
    {
     "output_type": "execute_result",
     "data": {
      "text/plain": [
       "      Unnamed: 0    cx    cy        cv   image_id\n",
       "0              0  3062   649  0.331045  2f6ecfcdf\n",
       "1              1  3224   649  0.283164  2f6ecfcdf\n",
       "2              2  2740   812  0.256768  2f6ecfcdf\n",
       "3              3  2901   812  0.635615  2f6ecfcdf\n",
       "4              4  3062   812  0.806436  2f6ecfcdf\n",
       "...          ...   ...   ...       ...        ...\n",
       "999          276  1137  3964  0.629199  aaa6a05cc\n",
       "1000         277  1300  3964  0.419951  aaa6a05cc\n",
       "1001         278  1463  3964  0.258350  aaa6a05cc\n",
       "1002         279   811  4130  0.302461  aaa6a05cc\n",
       "1003         280   974  4130  0.316191  aaa6a05cc\n",
       "\n",
       "[1004 rows x 5 columns]"
      ],
      "text/html": "<div>\n<style scoped>\n    .dataframe tbody tr th:only-of-type {\n        vertical-align: middle;\n    }\n\n    .dataframe tbody tr th {\n        vertical-align: top;\n    }\n\n    .dataframe thead th {\n        text-align: right;\n    }\n</style>\n<table border=\"1\" class=\"dataframe\">\n  <thead>\n    <tr style=\"text-align: right;\">\n      <th></th>\n      <th>Unnamed: 0</th>\n      <th>cx</th>\n      <th>cy</th>\n      <th>cv</th>\n      <th>image_id</th>\n    </tr>\n  </thead>\n  <tbody>\n    <tr>\n      <th>0</th>\n      <td>0</td>\n      <td>3062</td>\n      <td>649</td>\n      <td>0.331045</td>\n      <td>2f6ecfcdf</td>\n    </tr>\n    <tr>\n      <th>1</th>\n      <td>1</td>\n      <td>3224</td>\n      <td>649</td>\n      <td>0.283164</td>\n      <td>2f6ecfcdf</td>\n    </tr>\n    <tr>\n      <th>2</th>\n      <td>2</td>\n      <td>2740</td>\n      <td>812</td>\n      <td>0.256768</td>\n      <td>2f6ecfcdf</td>\n    </tr>\n    <tr>\n      <th>3</th>\n      <td>3</td>\n      <td>2901</td>\n      <td>812</td>\n      <td>0.635615</td>\n      <td>2f6ecfcdf</td>\n    </tr>\n    <tr>\n      <th>4</th>\n      <td>4</td>\n      <td>3062</td>\n      <td>812</td>\n      <td>0.806436</td>\n      <td>2f6ecfcdf</td>\n    </tr>\n    <tr>\n      <th>...</th>\n      <td>...</td>\n      <td>...</td>\n      <td>...</td>\n      <td>...</td>\n      <td>...</td>\n    </tr>\n    <tr>\n      <th>999</th>\n      <td>276</td>\n      <td>1137</td>\n      <td>3964</td>\n      <td>0.629199</td>\n      <td>aaa6a05cc</td>\n    </tr>\n    <tr>\n      <th>1000</th>\n      <td>277</td>\n      <td>1300</td>\n      <td>3964</td>\n      <td>0.419951</td>\n      <td>aaa6a05cc</td>\n    </tr>\n    <tr>\n      <th>1001</th>\n      <td>278</td>\n      <td>1463</td>\n      <td>3964</td>\n      <td>0.258350</td>\n      <td>aaa6a05cc</td>\n    </tr>\n    <tr>\n      <th>1002</th>\n      <td>279</td>\n      <td>811</td>\n      <td>4130</td>\n      <td>0.302461</td>\n      <td>aaa6a05cc</td>\n    </tr>\n    <tr>\n      <th>1003</th>\n      <td>280</td>\n      <td>974</td>\n      <td>4130</td>\n      <td>0.316191</td>\n      <td>aaa6a05cc</td>\n    </tr>\n  </tbody>\n</table>\n<p>1004 rows × 5 columns</p>\n</div>"
     },
     "metadata": {},
     "execution_count": 4
    }
   ],
   "source": [
    "data"
   ]
  },
  {
   "cell_type": "code",
   "execution_count": 5,
   "metadata": {},
   "outputs": [],
   "source": [
    "data = hmDataset(\n",
    "    df = data,\n",
    "    img_ids=['2f6ecfcdf'],\n",
    "    cfg=cfg\n",
    ")"
   ]
  },
  {
   "cell_type": "code",
   "execution_count": 8,
   "metadata": {},
   "outputs": [],
   "source": [
    "img, mask = data[0]"
   ]
  },
  {
   "cell_type": "code",
   "execution_count": 10,
   "metadata": {},
   "outputs": [
    {
     "output_type": "execute_result",
     "data": {
      "text/plain": [
       "(320, 320)"
      ]
     },
     "metadata": {},
     "execution_count": 10
    }
   ],
   "source": [
    "mask.shape"
   ]
  },
  {
   "cell_type": "code",
   "execution_count": null,
   "metadata": {},
   "outputs": [],
   "source": []
  }
 ]
}